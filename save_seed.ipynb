{
 "cells": [
  {
   "cell_type": "code",
   "execution_count": 1,
   "metadata": {},
   "outputs": [],
   "source": [
    "import os\n",
    "# os.popen('')\n",
    "import sys\n",
    "sys.path.append('/nethome/storage/raid2/o.okewale/damask/python')\n",
    "import numpy as np\n",
    "from damask import Grid\n",
    "from damask import seeds"
   ]
  },
  {
   "cell_type": "code",
   "execution_count": 2,
   "metadata": {},
   "outputs": [],
   "source": [
    "def createDirectory(dir:str):\n",
    "    if not os.path.exists(dir):\n",
    "        os.makedirs(dir)"
   ]
  },
  {
   "cell_type": "code",
   "execution_count": 4,
   "metadata": {},
   "outputs": [],
   "source": [
    "def grabOrGenerateSeeds(size, number_of_grains, cells):\n",
    "    inputFolder = 'rves/seeds/'\n",
    "    createDirectory(inputFolder)\n",
    "    inputFile = f'{inputFolder}/{size}_{number_of_grains}.seeds.npy'\n",
    "    if (os.path.exists(inputFile)):\n",
    "        print(\"loading from file\")\n",
    "        return np.load(inputFile)\n",
    "    else:\n",
    "        print(\"generating new seeds\")\n",
    "        generated_seeds = seeds.from_random(size,number_of_grains,cells)\n",
    "        np.save(inputFile, generated_seeds)\n",
    "        return generated_seeds"
   ]
  },
  {
   "cell_type": "code",
   "execution_count": 14,
   "metadata": {},
   "outputs": [],
   "source": [
    "def loadOrGenerateSize(number_of_grains, cells, dx):\n",
    "    inputFolder = 'rves/seeds/'\n",
    "    createDirectory(inputFolder)\n",
    "    sizeInputFile = f'{inputFolder}/{number_of_grains}.data.npy'\n",
    "    if (os.path.exists(sizeInputFile)):\n",
    "        print(\"== loading size from file ==\")\n",
    "        size = np.load(sizeInputFile)\n",
    "        # recalculate cells from size and dx here\n",
    "        cells_x = int(size[0]/dx)\n",
    "        newCells = np.array([cells_x,cells_x,cells_x])\n",
    "        return size,newCells,dx\n",
    "    else:\n",
    "        print(\"== generating new size and saving to file ==\")\n",
    "        size = cells*dx\n",
    "        np.save(sizeInputFile, size)\n",
    "        return size,cells,dx"
   ]
  },
  {
   "cell_type": "code",
   "execution_count": 15,
   "metadata": {},
   "outputs": [
    {
     "name": "stdout",
     "output_type": "stream",
     "text": [
      "== loading size from file ==\n",
      "== loading size from file ==\n",
      "== loading size from file ==\n",
      "[0.000336 0.000336 0.000336] [42 42 42] 8e-06\n",
      "[0.000336 0.000336 0.000336] [84 84 84] 4e-06\n",
      "[0.000336 0.000336 0.000336] [168 168 168] 2e-06\n"
     ]
    }
   ],
   "source": [
    "x,y,z = loadOrGenerateSize(2160, np.array([42,42,42]), 8E-06)\n",
    "x1,y1,z1 = loadOrGenerateSize(2160, np.array([42,42,42]), 4E-06)\n",
    "x2,y2,z2 = loadOrGenerateSize(2160, np.array([42,42,42]), 2E-06)\n",
    "print(x,y,z)\n",
    "print(x1,y1,z1)\n",
    "print(x2,y2,z2)"
   ]
  },
  {
   "cell_type": "code",
   "execution_count": 10,
   "metadata": {},
   "outputs": [
    {
     "name": "stdout",
     "output_type": "stream",
     "text": [
      "loading from file\n",
      "loading from file\n"
     ]
    },
    {
     "data": {
      "text/plain": [
       "array([[5.30089424e-05, 4.98116461e-06, 3.42811654e-05],\n",
       "       [4.39705593e-05, 1.91879563e-05, 3.64768710e-05],\n",
       "       [2.98951888e-05, 5.14597001e-05, 5.26917378e-05],\n",
       "       [1.17614768e-05, 1.90768734e-05, 1.12448743e-05],\n",
       "       [3.77670412e-05, 2.77126729e-05, 5.07610408e-06],\n",
       "       [5.31342059e-05, 2.74010333e-05, 2.79810157e-05],\n",
       "       [2.71622424e-05, 2.73906548e-05, 1.20411202e-05],\n",
       "       [4.43031173e-06, 2.89139026e-05, 2.25207059e-06],\n",
       "       [2.06373615e-06, 1.84398975e-05, 5.13273145e-05],\n",
       "       [2.15447597e-06, 3.52663313e-05, 2.10912137e-05]])"
      ]
     },
     "execution_count": 10,
     "metadata": {},
     "output_type": "execute_result"
    }
   ],
   "source": [
    "grabOrGenerateSeeds(np.array([0.000192,0.000192,0.000192]), 403, np.array([24,24,24]))\n",
    "grabOrGenerateSeeds(np.array([5.6e-05,5.6e-05,5.6e-05]), 10, np.array([7,7,7]))"
   ]
  }
 ],
 "metadata": {
  "interpreter": {
   "hash": "31f2aee4e71d21fbe5cf8b01ff0e069b9275f58929596ceb00d14d90e3e16cd6"
  },
  "kernelspec": {
   "display_name": "Python 3.8.10 64-bit",
   "language": "python",
   "name": "python3"
  },
  "language_info": {
   "codemirror_mode": {
    "name": "ipython",
    "version": 3
   },
   "file_extension": ".py",
   "mimetype": "text/x-python",
   "name": "python",
   "nbconvert_exporter": "python",
   "pygments_lexer": "ipython3",
   "version": "3.8.10"
  },
  "orig_nbformat": 4
 },
 "nbformat": 4,
 "nbformat_minor": 2
}
