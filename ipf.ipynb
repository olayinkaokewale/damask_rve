{
 "cells": [
  {
   "cell_type": "code",
   "execution_count": 1,
   "metadata": {},
   "outputs": [],
   "source": [
    "import sys\n",
    "sys.path.append('/nethome/storage/raid2/o.okewale/damask/python')\n",
    "sys.path.append('/nethome/o.okewale/examples/scripts')"
   ]
  },
  {
   "cell_type": "code",
   "execution_count": 2,
   "metadata": {},
   "outputs": [],
   "source": [
    "import os\n",
    "import numpy as np\n",
    "import damask\n",
    "import After_CA_restart"
   ]
  },
  {
   "cell_type": "code",
   "execution_count": 3,
   "metadata": {},
   "outputs": [],
   "source": [
    "def generateSampleFolderAndName(sim):\n",
    "    sample_name = f'Polycrystal_{sim[0]}_{sim[1]}x{sim[1]}x{sim[1]}'\n",
    "    sample_folder = f'/nethome/o.okewale/examples/{sim[2]}e-06_3.2e-05/sim_results_1/{sample_name}/simulation'\n",
    "    return [sample_folder, sample_name]"
   ]
  },
  {
   "cell_type": "code",
   "execution_count": 4,
   "metadata": {},
   "outputs": [],
   "source": [
    "def generateIPFVtk(sim):\n",
    "    simulation_folder,sample_name = generateSampleFolderAndName(sim)\n",
    "    os.chdir(simulation_folder)\n",
    "    !pwd\n",
    "    d = damask.Result(f'{simulation_folder}/{sample_name}_tensionX.hdf5')\n",
    "    d.add_IPF_color(np.array([0.0,0.0,1.0]))\n",
    "    os.chdir(f'{simulation_folder}/postProc')\n",
    "    d.save_VTK('IPFcolor_[0 0 1]')\n"
   ]
  },
  {
   "cell_type": "code",
   "execution_count": 5,
   "metadata": {},
   "outputs": [
    {
     "name": "stdout",
     "output_type": "stream",
     "text": [
      "/nethome/storage/raid2/o.okewale/examples/6e-06_3.2e-05/sim_results_1/Polycrystal_310_29x29x29/simulation\n"
     ]
    },
    {
     "name": "stderr",
     "output_type": "stream",
     "text": [
      " ██████████████████████████████████████████████████ 100% ETA 0:00:00\n",
      " ██████████████████████████████████████████████████ 100% ETA 0:00:00\n"
     ]
    }
   ],
   "source": [
    "all_simulation = [\n",
    "    # [10,7,8,6000],\n",
    "    # [98,15,8,6000],\n",
    "    # [310,22,8,6000],\n",
    "    [310,29,6,6000],\n",
    "    # [512,26,8,6000],\n",
    "    # [955,32,8,6000],\n",
    "    # [2160,42,8,6000],\n",
    "    # [10,14,4,6000],\n",
    "    # [98,30,4,6000],\n",
    "    # [310,44,4,6000],\n",
    "    # [512,52,4,6000],\n",
    "    # [310,88,2,6000]\n",
    "]\n",
    "\n",
    "for sim in all_simulation:\n",
    "    generateIPFVtk(sim)"
   ]
  },
  {
   "cell_type": "code",
   "execution_count": 11,
   "metadata": {},
   "outputs": [],
   "source": [
    "# os.chdir(f'/nethome/o.okewale/examples/sim_results/{sample_name}/6000_stand/CA_files/0.25')\n",
    "# dx = 3.6000000000e-06\n",
    "# After_CA_restart.CASIPT_postprocessing(f'/nethome/o.okewale/examples/sim_results/{sample_name}/6000_stand/CA_files/5.0').CAtoDREAM3D(dx)"
   ]
  }
 ],
 "metadata": {
  "interpreter": {
   "hash": "31f2aee4e71d21fbe5cf8b01ff0e069b9275f58929596ceb00d14d90e3e16cd6"
  },
  "kernelspec": {
   "display_name": "Python 3.8.10 64-bit",
   "language": "python",
   "name": "python3"
  },
  "language_info": {
   "codemirror_mode": {
    "name": "ipython",
    "version": 3
   },
   "file_extension": ".py",
   "mimetype": "text/x-python",
   "name": "python",
   "nbconvert_exporter": "python",
   "pygments_lexer": "ipython3",
   "version": "3.8.10"
  },
  "orig_nbformat": 4
 },
 "nbformat": 4,
 "nbformat_minor": 2
}
