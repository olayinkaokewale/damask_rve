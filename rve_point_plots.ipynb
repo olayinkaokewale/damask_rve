{
 "cells": [
  {
   "cell_type": "code",
   "execution_count": 1,
   "metadata": {},
   "outputs": [
    {
     "name": "stdout",
     "output_type": "stream",
     "text": [
      "Populating the interactive namespace from numpy and matplotlib\n"
     ]
    }
   ],
   "source": [
    "%pylab inline\n",
    "%matplotlib inline"
   ]
  },
  {
   "cell_type": "code",
   "execution_count": 2,
   "metadata": {},
   "outputs": [],
   "source": [
    "import os\n",
    "import pandas as pd\n",
    "import numpy as np\n",
    "import matplotlib.pyplot as plt\n",
    "import matplotlib.collections as matcoll\n",
    "from scipy import stats"
   ]
  },
  {
   "cell_type": "code",
   "execution_count": 3,
   "metadata": {},
   "outputs": [],
   "source": [
    "def createDirectory(dir:str):\n",
    "    if not os.path.exists(dir):\n",
    "        os.makedirs(dir)"
   ]
  },
  {
   "cell_type": "code",
   "execution_count": 4,
   "metadata": {},
   "outputs": [],
   "source": [
    "def getData(input_file):\n",
    "    with open(input_file) as f:\n",
    "        lines = f.readlines()\n",
    "        x_values = [[int(d) for d in line.split(\", \")] for line in lines]\n",
    "    grain = [f'{int(r[0])}' for r in x_values]\n",
    "    texture_index = [r[1] for r in x_values]\n",
    "    entropy = [r[2] for r in x_values]\n",
    "    return grain, texture_index, entropy"
   ]
  },
  {
   "cell_type": "code",
   "execution_count": 27,
   "metadata": {},
   "outputs": [],
   "source": [
    "def plotData(data):\n",
    "    legends = [f'${x}\\mu m$' for x in data.keys()]\n",
    "    plt.figure()\n",
    "    for key in data.keys():\n",
    "        # x_values = [f'{x[0]}' for x in data.get(key)]\n",
    "        x_values = [x[0] for x in data.get(key)]\n",
    "        y_values = [y[1]**3 for y in data.get(key)]\n",
    "        plt.plot(x_values, y_values, marker='.') # , marker='.', linestyle='none'\n",
    "\n",
    "    plt.ylabel('Grid points')\n",
    "    plt.legend(legends, title=\"Grid spacing\")\n",
    "    plt.xlabel('Grain numbers')\n",
    "    # plt.margins(0.1)"
   ]
  },
  {
   "cell_type": "code",
   "execution_count": 6,
   "metadata": {},
   "outputs": [],
   "source": [
    "data = {\n",
    "    \"8\": [\n",
    "        [10,7],\n",
    "        [98,15],\n",
    "        [310,22],\n",
    "        [512,26],\n",
    "        [955,32],\n",
    "        [2160,42],\n",
    "    ],\n",
    "    \"6\": [\n",
    "        [10,9],\n",
    "        [98,19],\n",
    "        [310,29],\n",
    "        [512,34],\n",
    "        [955,42],\n",
    "        [2160,55],\n",
    "    ],\n",
    "    \"4\": [\n",
    "        [10,14],\n",
    "        [98,30],\n",
    "        [310,44],\n",
    "        [512,52],\n",
    "        [955,64],\n",
    "        [2160,84],\n",
    "    ],\n",
    "    \"3\": [\n",
    "        [10,18],\n",
    "        [98,39],\n",
    "        [310,58],\n",
    "        [512,69],\n",
    "        [955,85],\n",
    "        [2160,111],\n",
    "    ]\n",
    "}"
   ]
  },
  {
   "cell_type": "code",
   "execution_count": 28,
   "metadata": {},
   "outputs": [
    {
     "data": {
      "image/png": "[encoded data removed]",
      "text/plain": [
       "<Figure size 432x288 with 1 Axes>"
      ]
     },
     "metadata": {
      "needs_background": "light"
     },
     "output_type": "display_data"
    }
   ],
   "source": [
    "plotData(data)"
   ]
  }
 ],
 "metadata": {
  "interpreter": {
   "hash": "31f2aee4e71d21fbe5cf8b01ff0e069b9275f58929596ceb00d14d90e3e16cd6"
  },
  "kernelspec": {
   "display_name": "Python 3.8.10 64-bit",
   "language": "python",
   "name": "python3"
  },
  "language_info": {
   "codemirror_mode": {
    "name": "ipython",
    "version": 3
   },
   "file_extension": ".py",
   "mimetype": "text/x-python",
   "name": "python",
   "nbconvert_exporter": "python",
   "pygments_lexer": "ipython3",
   "version": "3.8.10"
  },
  "orig_nbformat": 4
 },
 "nbformat": 4,
 "nbformat_minor": 2
}
