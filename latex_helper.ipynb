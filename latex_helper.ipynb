{
 "cells": [
  {
   "cell_type": "code",
   "execution_count": 1,
   "metadata": {},
   "outputs": [],
   "source": [
    "import os\n",
    "import pandas as pd\n",
    "import numpy as np\n",
    "import matplotlib.pyplot as plt\n",
    "import matplotlib.collections as matcoll\n",
    "from scipy import stats\n",
    "import seaborn as sb\n",
    "import math"
   ]
  },
  {
   "cell_type": "code",
   "execution_count": 2,
   "metadata": {},
   "outputs": [],
   "source": [
    "def formatInp(inp):\n",
    "    return f'{round(inp,6)}' if isinstance(inp, float) else f'{inp}'\n",
    "def printLatexTableRow(*args):\n",
    "    items = [formatInp(i) for i in args]\n",
    "    print(\" & \".join(items) + \" \\\\\\\\\")"
   ]
  },
  {
   "cell_type": "code",
   "execution_count": 3,
   "metadata": {},
   "outputs": [
    {
     "name": "stdout",
     "output_type": "stream",
     "text": [
      "10 & 56 & 0.175616 \\\\\n",
      "98 & 120 & 1.728 \\\\\n",
      "310 & 176 & 5.451776 \\\\\n",
      "512 & 208 & 8.998912 \\\\\n",
      "955 & 256 & 16.777216 \\\\\n",
      "2160 & 336 & 37.933056 \\\\\n"
     ]
    }
   ],
   "source": [
    "# print(f\"$*mathbf<t = {t}*si<*s>>$ **\".replace(\"*\", \"\\\\\").replace(\"<\", \"{\").replace(\">\", \"}\"))\n",
    "# print(\"\\hline\")\n",
    "rves = [\n",
    "    [10,56],\n",
    "    [98,120],\n",
    "    [310,176],\n",
    "    [512,208],\n",
    "    [955,256],\n",
    "    [2160,336],\n",
    "]\n",
    "for rve in rves:\n",
    "    printLatexTableRow(rve[0], rve[1], (rve[1]**3)/1e6)\n",
    "# printLatexTableRow(98, z1[1], z1[1]/math.sqrt(5), a1[1], a1[1]/math.sqrt(5), 5)\n",
    "# printLatexTableRow(310, z2[1], z2[1]/math.sqrt(5), a2[1], a2[1]/math.sqrt(5), 5)\n",
    "# printLatexTableRow(512, z3[1], z3[1]/math.sqrt(3), a3[1], a3[1]/math.sqrt(3), 3)\n",
    "# printLatexTableRow(955, z4[1], z4[1]/math.sqrt(3), a4[1], a4[1]/math.sqrt(3), 3)\n",
    "# print(\"\\hline\")"
   ]
  }
 ],
 "metadata": {
  "interpreter": {
   "hash": "31f2aee4e71d21fbe5cf8b01ff0e069b9275f58929596ceb00d14d90e3e16cd6"
  },
  "kernelspec": {
   "display_name": "Python 3.8.10 64-bit",
   "language": "python",
   "name": "python3"
  },
  "language_info": {
   "codemirror_mode": {
    "name": "ipython",
    "version": 3
   },
   "file_extension": ".py",
   "mimetype": "text/x-python",
   "name": "python",
   "nbconvert_exporter": "python",
   "pygments_lexer": "ipython3",
   "version": "3.8.10"
  },
  "orig_nbformat": 4
 },
 "nbformat": 4,
 "nbformat_minor": 2
}
