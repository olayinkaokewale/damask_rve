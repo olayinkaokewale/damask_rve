{
 "cells": [
  {
   "cell_type": "code",
   "execution_count": 1,
   "metadata": {},
   "outputs": [],
   "source": [
    "import sys\n",
    "sys.path.append('/nethome/storage/raid2/o.okewale/damask/python')\n",
    "import h5py\n",
    "import numpy as np\n",
    "import matplotlib.pyplot as plt\n",
    "import damask\n",
    "import os"
   ]
  },
  {
   "cell_type": "code",
   "execution_count": 22,
   "metadata": {},
   "outputs": [
    {
     "name": "stdout",
     "output_type": "stream",
     "text": [
      "61 <== DS sigmna\n",
      "61 <== DS epsilon\n"
     ]
    }
   ],
   "source": [
    "input_file = '/nethome/o.okewale/examples/8e-06_3.2e-05/sim_results_1_2/Polycrystal_310_22x22x22/simulation/Polycrystal_310_22x22x22_tensionX.hdf5'\n",
    "\n",
    "d = damask.Result(input_file)\n",
    "ds_sigma = d.get_dataset_location('sigma_vM')\n",
    "ds_epsilon = d.get_dataset_location('epsilon_V^0.0(F)_vM')\n",
    "print(len(ds_sigma), \"<== DS sigmna\")\n",
    "print(len(ds_epsilon), \"<== DS epsilon\")"
   ]
  },
  {
   "cell_type": "code",
   "execution_count": 23,
   "metadata": {},
   "outputs": [],
   "source": [
    "if (len(ds_sigma) == 0):\n",
    "    d.add_stress_Cauchy()\n",
    "    d.add_equivalent_Mises('sigma')\n",
    "\n",
    "if (len(ds_epsilon) == 0):\n",
    "    d.add_strain()\n",
    "    d.add_equivalent_Mises('epsilon_V^0.0(F)')"
   ]
  }
 ],
 "metadata": {
  "interpreter": {
   "hash": "31f2aee4e71d21fbe5cf8b01ff0e069b9275f58929596ceb00d14d90e3e16cd6"
  },
  "kernelspec": {
   "display_name": "Python 3.8.10 64-bit",
   "language": "python",
   "name": "python3"
  },
  "language_info": {
   "codemirror_mode": {
    "name": "ipython",
    "version": 3
   },
   "file_extension": ".py",
   "mimetype": "text/x-python",
   "name": "python",
   "nbconvert_exporter": "python",
   "pygments_lexer": "ipython3",
   "version": "3.8.10"
  },
  "orig_nbformat": 4
 },
 "nbformat": 4,
 "nbformat_minor": 2
}
