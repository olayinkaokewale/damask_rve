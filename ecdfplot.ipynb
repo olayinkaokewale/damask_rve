{
 "cells": [
  {
   "cell_type": "code",
   "execution_count": 1,
   "metadata": {},
   "outputs": [
    {
     "name": "stdout",
     "output_type": "stream",
     "text": [
      "Populating the interactive namespace from numpy and matplotlib\n"
     ]
    }
   ],
   "source": [
    "%pylab inline\n",
    "%matplotlib inline"
   ]
  },
  {
   "cell_type": "code",
   "execution_count": 2,
   "metadata": {},
   "outputs": [],
   "source": [
    "import os\n",
    "import pandas as pd\n",
    "import numpy as np\n",
    "import matplotlib.pyplot as plt\n",
    "import matplotlib.collections as matcoll\n",
    "from scipy import stats\n",
    "import seaborn as sb\n",
    "import math"
   ]
  },
  {
   "cell_type": "code",
   "execution_count": 3,
   "metadata": {},
   "outputs": [],
   "source": [
    "def createDirectory(dir:str):\n",
    "    if not os.path.exists(dir):\n",
    "        os.makedirs(dir)"
   ]
  },
  {
   "cell_type": "code",
   "execution_count": 4,
   "metadata": {},
   "outputs": [],
   "source": [
    "def ecdf(xdata):\n",
    "    xdataecdf = np.sort(xdata)\n",
    "    ydataecdf = np.arange(1, len(xdata) + 1) / len(xdata)\n",
    "    return xdataecdf,ydataecdf"
   ]
  },
  {
   "cell_type": "code",
   "execution_count": 5,
   "metadata": {},
   "outputs": [],
   "source": [
    "def findMeanAndStd(xdata):\n",
    "    xmean = np.mean(xdata)\n",
    "    xstd = np.std(xdata)\n",
    "    return xmean,xstd"
   ]
  },
  {
   "cell_type": "code",
   "execution_count": 6,
   "metadata": {},
   "outputs": [],
   "source": [
    "def getCASimulationFolder(data, prefix='8e-06_3.2e-05', suffix=''):\n",
    "    sample_name = f'Polycrystal_{data[0]}_{data[1]}x{data[1]}x{data[1]}'\n",
    "    simulation_folder = f'/nethome/o.okewale/examples/{prefix}/sim_results_{suffix}/{sample_name}/{data[2]}_stand/CA_files'\n",
    "    return simulation_folder"
   ]
  },
  {
   "cell_type": "code",
   "execution_count": 7,
   "metadata": {},
   "outputs": [],
   "source": [
    "def gte(x,y):\n",
    "    return x >= y\n",
    "def lte(x,y):\n",
    "    return x < y\n",
    "def getRho(input_file, min_value=0, set_max=False):\n",
    "    fn = gte if not set_max else lte\n",
    "    with open(input_file) as f:\n",
    "        lines = f.readlines()\n",
    "        x_values = [float(line) for line in lines  if fn(float(line),min_value)]\n",
    "    return x_values"
   ]
  },
  {
   "cell_type": "code",
   "execution_count": 8,
   "metadata": {},
   "outputs": [],
   "source": [
    "def listMeanAndStd(data, time='0.0', start=1, end=5, prefix=\"8e-06_3.2e-05\",min_rho=0, setMax=False):\n",
    "    x_data = []\n",
    "    y_data_std = []\n",
    "    y_data_mean = []\n",
    "    for index in range (start, end+1):\n",
    "        x_data.append(index)\n",
    "        input_file = f'{getCASimulationFolder(data, prefix=prefix, suffix=f\"{index}\")}/{time}/._rho.txt'\n",
    "        rho = getRho(input_file,min_value=min_rho,set_max=setMax)\n",
    "        mean,std = findMeanAndStd(rho)\n",
    "        y_data_mean.append(mean)\n",
    "        y_data_std.append(std)\n",
    "    m_mean,m_std = findMeanAndStd(y_data_mean)\n",
    "    s_mean,s_std = findMeanAndStd(y_data_std)\n",
    "    return x_data,[y_data_mean,y_data_std],[m_mean/10**14,m_std/10**14],[s_mean/10**14, s_std/10**14]"
   ]
  },
  {
   "cell_type": "code",
   "execution_count": 9,
   "metadata": {},
   "outputs": [
    {
     "name": "stdout",
     "output_type": "stream",
     "text": [
      "4.335906852295918 1.3590794892396267 <== 10 grains [1-1] | time=0.0\n",
      "4.374979168461049 1.503779511492152 <== 98 grains [1-1] | time=0.0\n",
      "=======================================================\n",
      "1.0003443919441501 1.7312904318831337 <== 10 grains [1-1] | time=2.5\n",
      "1.1993645394122785 1.8578513915537247 <== 98 grains [1-1] | time=2.5\n",
      "=======================================================\n",
      "0.23960964165983087 0.7432147817145788 <== 10 grains [1-1] | time=5.0\n",
      "0.480541304554588 1.1796174663339702 <== 98 grains [1-1] | time=5.0\n",
      "=======================================================\n"
     ]
    }
   ],
   "source": [
    "for t in ['0.0','2.5','5.0']:\n",
    "    x,y,z,a = listMeanAndStd([10,14,6000], time=t,start=1,end=1,prefix='4e-06_3.2e-05')\n",
    "    x1,y1,z1,a1 = listMeanAndStd([98,30,6000], time=t,start=1,end=1,prefix='4e-06_3.2e-05')\n",
    "    print(y[0][0]/10**14, y[1][0]/10**14, f\"<== 10 grains [1-1] | time={t}\")\n",
    "    print(y1[0][0]/10**14, y1[1][0]/10**14, f\"<== 98 grains [1-1] | time={t}\")\n",
    "    print(\"=======================================================\")"
   ]
  },
  {
   "cell_type": "code",
   "execution_count": 28,
   "metadata": {},
   "outputs": [],
   "source": [
    "def formatInp(inp):\n",
    "    return f'{round(inp,5)}' if isinstance(inp, float) else f'{inp}'\n",
    "def printLatexTableRow(*args):\n",
    "    items = [formatInp(i) for i in args]\n",
    "    print(\" & \".join(items) + \" \\\\\\\\\")"
   ]
  },
  {
   "cell_type": "code",
   "execution_count": 32,
   "metadata": {},
   "outputs": [
    {
     "name": "stdout",
     "output_type": "stream",
     "text": [
      "$\\mathbf{t = 0.0\\si{\\s}}$ \\\\\n",
      "\\hline\n",
      "10 & 0.07051 & 0.03153 & 0.05657 & 0.0253 & 5 \\\\\n",
      "98 & 0.02939 & 0.01314 & 0.01246 & 0.00557 & 5 \\\\\n",
      "310 & 0.03505 & 0.01567 & 0.01821 & 0.00814 & 5 \\\\\n",
      "512 & 0.01834 & 0.01059 & 0.00964 & 0.00557 & 3 \\\\\n",
      "955 & 0.00551 & 0.00318 & 0.00767 & 0.00443 & 3 \\\\\n",
      "\\hline\n",
      "$\\mathbf{t = 2.5\\si{\\s}}$ \\\\\n",
      "\\hline\n",
      "10 & 0.31111 & 0.13913 & 0.11897 & 0.05321 & 5 \\\\\n",
      "98 & 0.06929 & 0.03099 & 0.02799 & 0.01252 & 5 \\\\\n",
      "310 & 0.06422 & 0.02872 & 0.02508 & 0.01122 & 5 \\\\\n",
      "512 & 0.04892 & 0.02825 & 0.01751 & 0.01011 & 3 \\\\\n",
      "955 & 0.04996 & 0.02885 & 0.00784 & 0.00453 & 3 \\\\\n",
      "\\hline\n",
      "$\\mathbf{t = 5.0\\si{\\s}}$ \\\\\n",
      "\\hline\n",
      "10 & 0.16498 & 0.07378 & 0.37114 & 0.16598 & 5 \\\\\n",
      "98 & 0.0457 & 0.02044 & 0.08674 & 0.03879 & 5 \\\\\n",
      "310 & 0.05461 & 0.02442 & 0.09523 & 0.04259 & 5 \\\\\n",
      "512 & 0.02578 & 0.01489 & 0.05249 & 0.03031 & 3 \\\\\n",
      "955 & 0.02841 & 0.0164 & 0.04557 & 0.02631 & 3 \\\\\n",
      "\\hline\n"
     ]
    }
   ],
   "source": [
    "minRho = 0 # 1.21e13\n",
    "for t in ['0.0','2.5','5.0']:\n",
    "    setMax = False # if t == '0.0' else True\n",
    "    x,y,z,a = listMeanAndStd([10,7,6000], time=t,start=1,end=5,min_rho=minRho,setMax=setMax)\n",
    "    x1,y1,z1,a1 = listMeanAndStd([98,15,6000], time=t,start=1,end=5,min_rho=minRho,setMax=setMax)\n",
    "    x2,y2,z2,a2 = listMeanAndStd([310,22,6000], time=t,start=1,end=5,min_rho=minRho,setMax=setMax)\n",
    "    x3,y3,z3,a3 = listMeanAndStd([512,26,6000], time=t,start=1,end=3,min_rho=minRho,setMax=setMax)\n",
    "    x4,y4,z4,a4 = listMeanAndStd([955,32,6000], time=t,start=1,end=3,min_rho=minRho,setMax=setMax)\n",
    "\n",
    "    print(f\"$*mathbf<t = {t}*si<*s>>$ **\".replace(\"*\", \"\\\\\").replace(\"<\", \"{\").replace(\">\", \"}\"))\n",
    "    print(\"\\hline\")\n",
    "    printLatexTableRow(10, z[1], z[1]/math.sqrt(5), a[1], a[1]/math.sqrt(5), 5)\n",
    "    printLatexTableRow(98, z1[1], z1[1]/math.sqrt(5), a1[1], a1[1]/math.sqrt(5), 5)\n",
    "    printLatexTableRow(310, z2[1], z2[1]/math.sqrt(5), a2[1], a2[1]/math.sqrt(5), 5)\n",
    "    printLatexTableRow(512, z3[1], z3[1]/math.sqrt(3), a3[1], a3[1]/math.sqrt(3), 3)\n",
    "    printLatexTableRow(955, z4[1], z4[1]/math.sqrt(3), a4[1], a4[1]/math.sqrt(3), 3)\n",
    "    print(\"\\hline\")"
   ]
  },
  {
   "cell_type": "code",
   "execution_count": 15,
   "metadata": {},
   "outputs": [],
   "source": [
    "def plotMean(allData, time='0.0'):\n",
    "    x_data = [n[0] for n in allData]\n",
    "    y_data_std = []\n",
    "    y_data_mean = []\n",
    "    for data in allData:\n",
    "        base_file = getCASimulationFolder(data, suffix='1')\n",
    "        input_file = f'{base_file}/{time}/._rho.txt'\n",
    "        rho = getRho(input_file)\n",
    "        mean,std = findMeanAndStd(rho)\n",
    "        y_data_mean.append(mean)\n",
    "        y_data_std.append(std)\n",
    "    return x_data,[y_data_mean,y_data_std]"
   ]
  },
  {
   "cell_type": "code",
   "execution_count": 28,
   "metadata": {},
   "outputs": [],
   "source": [
    "def plotECDF(data):\n",
    "    # data = [98,15,6000]\n",
    "    # sample_name = f'Polycrystal_{data[0]}_{data[1]}x{data[1]}x{data[1]}'\n",
    "    # simulation_folder = f'/nethome/o.okewale/examples/sim_results/{sample_name}/{data[2]}_stand/CA_files'\n",
    "    # sel_seconds = ['0.0','2.5','5.0']\n",
    "    sel_seconds = ['2.5']\n",
    "    plt.figure()\n",
    "    for sec in sel_seconds:\n",
    "        base_file = getCASimulationFolder(data, suffix='1')\n",
    "        input_file = f'{base_file}/{sec}/._rho.txt'\n",
    "        \n",
    "        # # pandas and seaborn implementation.\n",
    "        # x_values = pd.read_csv(input_file, names=['tot_density'])\n",
    "        # plt_data = x_values.loc[x_values['tot_density']>1.21e13]\n",
    "        # print(len(x_values['tot_density']), len(plt_data), \"<== Length\")\n",
    "        # print(min(x_values['tot_density']), \"<== Minimum data\")\n",
    "        # sb.ecdfplot(data=plt_data)\n",
    "        \n",
    "        # seaborn and my data loading implementation\n",
    "        x_values = getRho(input_file)\n",
    "        # get unrecrystallized values x > 1.21e13\n",
    "        unr_x_values = [i for i in x_values if i > 1.21e13]\n",
    "        print(len(x_values), len(unr_x_values), \"<== Length\")\n",
    "        print(min(x_values), \"<== Minimum data\")\n",
    "        sb.ecdfplot(data=unr_x_values)\n",
    "        plt.xscale('log', base=10)\n",
    "        # return\n",
    "\n",
    "        # x,y = ecdf(x_values)\n",
    "        # #Plot the data\n",
    "        # # plt.figure()\n",
    "        # plt.plot(x, y) # , marker='.', linestyle='none'\n",
    "        # plt.xlabel('Dislocation density $\\\\rho$')\n",
    "        # plt.legend(sel_seconds)\n",
    "        # plt.ylabel('ECDF')\n",
    "        # plt.margins(0.1)"
   ]
  },
  {
   "cell_type": "code",
   "execution_count": 17,
   "metadata": {},
   "outputs": [],
   "source": [
    "def plotStandardDev(allData):\n",
    "    x,y = plotMean(allData, time='5.0')\n",
    "    x1,y1 = plotMean(allData, time='0.0')\n",
    "    # x2,y2 = plotMean(allData, time='2.5')\n",
    "    print(x)\n",
    "    print(y[1])\n",
    "\n",
    "    y_diff = [y1[1][i] - y[1][i] for i in range(0,len(y[1]))]\n",
    "    y_avg = [np.average([y1[1][i],y[1][i]]) for i in range(0,len(y[1]))]\n",
    "    y_coll = [[y1[1][i],y[1][i]] for i in range(0,len(y[1]))]\n",
    "    print(y_diff)\n",
    "    print(y_avg)\n",
    "    print(y_coll, \"<== Y Coll\")\n",
    "    str_x = [f'{a}' for a in x]\n",
    "    x_coll = [[f'{a}',f'{a}'] for a in x]\n",
    "    print(x_coll, \"<== X Coll\")\n",
    "\n",
    "    # linecoll = matcoll.LineCollection(y_coll,colors='k')\n",
    "    plt.figure()\n",
    "    plt.plot(str_x, y_avg, marker='.', linestyle='-') # , marker='.', linestyle='none'\n",
    "    plt.plot(str_x, y_coll, marker='.', linestyle='none')\n",
    "    plt.legend(['avg','5.0s','0.0s'], title='Annealing time')\n",
    "    plt.xlabel('grain no.')\n",
    "    # plt.ylabel('$(\\sigma_{5.0} + \\sigma_{0.0})/2$')\n",
    "    plt.ylabel('$\\sigma$')\n",
    "    plt.figure()\n",
    "    plt.plot(str_x, y_diff, marker='.', linestyle='-') # , marker='.', linestyle='none'\n",
    "    plt.xlabel('grain no.')\n",
    "    plt.ylabel('$\\sigma_{5.0} - \\sigma_{0.0}$')\n",
    "    plt.margins(0.1)"
   ]
  },
  {
   "cell_type": "code",
   "execution_count": 18,
   "metadata": {},
   "outputs": [],
   "source": [
    "def doKSTest(data1, data2, time='0.0'):\n",
    "    x_val1 = getRho(f'{getCASimulationFolder(data1)}/{time}/._rho.txt')\n",
    "    x_val2 = getRho(f'{getCASimulationFolder(data2)}/{time}/._rho.txt')\n",
    "    result = stats.ks_2samp(x_val1,x_val2)\n",
    "    return result"
   ]
  },
  {
   "cell_type": "code",
   "execution_count": 29,
   "metadata": {},
   "outputs": [
    {
     "name": "stdout",
     "output_type": "stream",
     "text": [
      "50986 22140 <== Length\n",
      "12000000212992.0 <== Minimum data\n"
     ]
    },
    {
     "data": {
      "image/png": "[encoded data removed]",
      "text/plain": [
       "<Figure size 432x288 with 1 Axes>"
      ]
     },
     "metadata": {
      "needs_background": "light"
     },
     "output_type": "display_data"
    }
   ],
   "source": [
    "all_simulations = [\n",
    "    [10,7,6000],\n",
    "    [98,15,6000],\n",
    "    [512,26,6000],\n",
    "    [955,32,6000],\n",
    "    [2160,42,6000],\n",
    "]\n",
    "\n",
    "# for dt in all_simulations:\n",
    "#     plotECDF(dt)\n",
    "\n",
    "plotECDF(all_simulations[2])\n",
    "# plotStandardDev(all_simulations)\n",
    "# print(doKSTest(all_simulations[4], all_simulations[3], time='0.0'))\n",
    "# print(doKSTest(all_simulations[4], all_simulations[3], time='2.5'))\n",
    "# print(doKSTest(all_simulations[4], all_simulations[3], time='0.0'))\n",
    "# print(doKSTest(all_simulations[4], all_simulations[2], time='0.0'))\n",
    "# print(doKSTest(all_simulations[4], all_simulations[1], time='0.0'))\n",
    "# print(doKSTest(all_simulations[4], all_simulations[0], time='0.0'))"
   ]
  },
  {
   "cell_type": "code",
   "execution_count": null,
   "metadata": {},
   "outputs": [],
   "source": [
    "def plotKSTest(allData, time_array):\n",
    "    # This function assumes the last value is the one being compared to.\n",
    "    output_folder = f'./plots/KSTest'\n",
    "    createDirectory(output_folder)\n",
    "    for time in time_array:\n",
    "        x_data = [f'{allData[i][0]}' for i in range(0,len(allData)-1)]\n",
    "        y_data = [doKSTest(allData[len(allData)-1], allData[s], time)[1] for s in range(0,len(allData)-1)]\n",
    "        # print(x_data)\n",
    "        # print(y_data)\n",
    "        plt.figure()\n",
    "        plt.plot(x_data, y_data, marker='.', linestyle='-') # , marker='.', linestyle='none'\n",
    "        # plt.legend(['avg','5.0s','0.0s'], title='Annealing time')\n",
    "        plt.xlabel('grain no.')\n",
    "        plt.ylabel('p-value')\n",
    "        plt.savefig(f'{output_folder}/{time}s_KSTest_on_dislocation_density.png', bbox_inches='tight')\n",
    "    \n",
    "times=[round(g,1) for g in np.arange(0.0,5.1,0.5)]\n",
    "plotKSTest(all_simulations,time_array=times)\n",
    "# print(times)"
   ]
  }
 ],
 "metadata": {
  "interpreter": {
   "hash": "31f2aee4e71d21fbe5cf8b01ff0e069b9275f58929596ceb00d14d90e3e16cd6"
  },
  "kernelspec": {
   "display_name": "Python 3.8.10 64-bit",
   "language": "python",
   "name": "python3"
  },
  "language_info": {
   "codemirror_mode": {
    "name": "ipython",
    "version": 3
   },
   "file_extension": ".py",
   "mimetype": "text/x-python",
   "name": "python",
   "nbconvert_exporter": "python",
   "pygments_lexer": "ipython3",
   "version": "3.8.10"
  },
  "orig_nbformat": 4
 },
 "nbformat": 4,
 "nbformat_minor": 2
}
