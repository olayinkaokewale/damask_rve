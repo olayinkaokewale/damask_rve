{
 "cells": [
  {
   "cell_type": "code",
   "execution_count": 1,
   "metadata": {},
   "outputs": [
    {
     "name": "stdout",
     "output_type": "stream",
     "text": [
      "Populating the interactive namespace from numpy and matplotlib\n"
     ]
    }
   ],
   "source": [
    "%pylab inline\n",
    "%matplotlib inline"
   ]
  },
  {
   "cell_type": "code",
   "execution_count": 24,
   "metadata": {},
   "outputs": [],
   "source": [
    "import os\n",
    "import pandas as pd\n",
    "import numpy as np\n",
    "import matplotlib.pyplot as plt\n",
    "import matplotlib.collections as matcoll\n",
    "from scipy import stats\n",
    "import seaborn as sb\n",
    "import math"
   ]
  },
  {
   "cell_type": "code",
   "execution_count": 3,
   "metadata": {},
   "outputs": [],
   "source": [
    "def createDirectory(dir:str):\n",
    "    if not os.path.exists(dir):\n",
    "        os.makedirs(dir)"
   ]
  },
  {
   "cell_type": "code",
   "execution_count": 4,
   "metadata": {},
   "outputs": [],
   "source": [
    "def ecdf(xdata):\n",
    "    xdataecdf = np.sort(xdata)\n",
    "    ydataecdf = np.arange(1, len(xdata) + 1) / len(xdata)\n",
    "    return xdataecdf,ydataecdf"
   ]
  },
  {
   "cell_type": "code",
   "execution_count": 5,
   "metadata": {},
   "outputs": [],
   "source": [
    "def findMeanAndStd(xdata):\n",
    "    xmean = np.mean(xdata)\n",
    "    xstd = np.std(xdata)\n",
    "    return xmean,xstd"
   ]
  },
  {
   "cell_type": "code",
   "execution_count": 9,
   "metadata": {},
   "outputs": [],
   "source": [
    "def getCASimulationFolder(data, prefix='8e-06_3.2e-05', suffix=''):\n",
    "    sample_name = f'Polycrystal_{data[0]}_{data[1]}x{data[1]}x{data[1]}'\n",
    "    simulation_folder = f'/nethome/o.okewale/examples/{prefix}/sim_results_{suffix}/{sample_name}/{data[2]}_stand/CA_files'\n",
    "    return simulation_folder"
   ]
  },
  {
   "cell_type": "code",
   "execution_count": 4,
   "metadata": {},
   "outputs": [],
   "source": [
    "def getRho(input_file):\n",
    "    with open(input_file) as f:\n",
    "        lines = f.readlines()\n",
    "        x_values = [float(line) for line in lines]\n",
    "    return x_values"
   ]
  },
  {
   "cell_type": "code",
   "execution_count": 8,
   "metadata": {},
   "outputs": [],
   "source": [
    "def listMeanAndStd(data, time='0.0', start=1, end=5, prefix=\"8e-06_3.2e-05\"):\n",
    "    x_data = []\n",
    "    y_data_std = []\n",
    "    y_data_mean = []\n",
    "    for index in range (start, end+1):\n",
    "        x_data.append(index)\n",
    "        input_file = f'{getCASimulationFolder(data, prefix=prefix, suffix=f\"_{index}\")}/{time}/._rho.txt'\n",
    "        rho = getRho(input_file)\n",
    "        mean,std = findMeanAndStd(rho)\n",
    "        y_data_mean.append(mean)\n",
    "        y_data_std.append(std)\n",
    "    m_mean,m_std = findMeanAndStd(y_data_mean)\n",
    "    s_mean,s_std = findMeanAndStd(y_data_std)\n",
    "    return x_data,[y_data_mean,y_data_std],[m_mean/10**14,m_std/10**14],[s_mean/10**14, s_std/10**14]"
   ]
  },
  {
   "cell_type": "code",
   "execution_count": 9,
   "metadata": {},
   "outputs": [
    {
     "name": "stdout",
     "output_type": "stream",
     "text": [
      "4.335906852295918 1.3590794892396267 <== 10 grains [1-1] | time=0.0\n",
      "4.374979168461049 1.503779511492152 <== 98 grains [1-1] | time=0.0\n",
      "=======================================================\n",
      "1.0003443919441501 1.7312904318831337 <== 10 grains [1-1] | time=2.5\n",
      "1.1993645394122785 1.8578513915537247 <== 98 grains [1-1] | time=2.5\n",
      "=======================================================\n",
      "0.23960964165983087 0.7432147817145788 <== 10 grains [1-1] | time=5.0\n",
      "0.480541304554588 1.1796174663339702 <== 98 grains [1-1] | time=5.0\n",
      "=======================================================\n"
     ]
    }
   ],
   "source": [
    "for t in ['0.0','2.5','5.0']:\n",
    "    x,y,z,a = listMeanAndStd([10,14,6000], time=t,start=1,end=1,prefix='4e-06_3.2e-05')\n",
    "    x1,y1,z1,a1 = listMeanAndStd([98,30,6000], time=t,start=1,end=1,prefix='4e-06_3.2e-05')\n",
    "    print(y[0][0]/10**14, y[1][0]/10**14, f\"<== 10 grains [1-1] | time={t}\")\n",
    "    print(y1[0][0]/10**14, y1[1][0]/10**14, f\"<== 98 grains [1-1] | time={t}\")\n",
    "    print(\"=======================================================\")"
   ]
  },
  {
   "cell_type": "code",
   "execution_count": 11,
   "metadata": {},
   "outputs": [
    {
     "name": "stdout",
     "output_type": "stream",
     "text": [
      "[4.403172074829932, 0.058401699528119445] [1.4573196990323631, 0.06650441203344105] <== 10 grains [1-3] | time=0.0\n",
      "[4.37428471068752, 0.021171714655511386] [1.536285552300159, 0.009439200831392667] <== 98 grains [1-3] | time=0.0\n",
      "[4.3371061946422556, 0.017438053349200375] [1.514957839029305, 0.01350347011587816] <== 310 grains [1-3] | time=0.0\n",
      "[4.31295988125041, 0.018343829307720428] [1.5172792950754521, 0.009641330311969341] <== 512 grains [1-3] | time=0.0\n",
      "[4.282316901390262, 0.00551059413411032] [1.5071417003305765, 0.007668664592175478] <== 955 grains [1-3] | time=0.0\n",
      "=======================================================\n",
      "[1.7869667484535188, 0.35388150254584877] [2.1733511472331832, 0.12594457490178568] <== 10 grains [1-3] | time=2.5\n",
      "[1.7474133787068598, 0.07207999670626782] [2.1160129649219863, 0.03438698647873007] <== 98 grains [1-3] | time=2.5\n",
      "[1.9719282904021662, 0.025516325711986455] [2.1851797190295152, 0.013876667540268032] <== 310 grains [1-3] | time=2.5\n",
      "[1.8959918726503462, 0.04892307303892349] [2.168983547778023, 0.017507975600490378] <== 512 grains [1-3] | time=2.5\n",
      "[1.9514177935522075, 0.04996434330491394] [2.1570052940638673, 0.007842219841907123] <== 955 grains [1-3] | time=2.5\n",
      "=======================================================\n",
      "[0.4236944420363563, 0.17867444789557754] [1.057304728075451, 0.3805578949828064] <== 10 grains [1-3] | time=5.0\n",
      "[0.38721112999154306, 0.05310506431202065] [1.0169110408733266, 0.09534389217567199] <== 98 grains [1-3] | time=5.0\n",
      "[0.47361678161066323, 0.04990060968500741] [1.1671107102042868, 0.07695832036584442] <== 310 grains [1-3] | time=5.0\n",
      "[0.4285660002354017, 0.025784014132004793] [1.0916679807123433, 0.05249439910597384] <== 512 grains [1-3] | time=5.0\n",
      "[0.4321848724192632, 0.028413816105672784] [1.0841744870637144, 0.04557146001185535] <== 955 grains [1-3] | time=5.0\n",
      "=======================================================\n"
     ]
    }
   ],
   "source": [
    "for t in ['0.0','2.5','5.0']:\n",
    "    x,y,z,a = listMeanAndStd([10,7,6000], time=t,start=1,end=3)\n",
    "    x1,y1,z1,a1 = listMeanAndStd([98,15,6000], time=t,start=1,end=3)\n",
    "    x2,y2,z2,a2 = listMeanAndStd([310,22,6000], time=t,start=1,end=3)\n",
    "    x3,y3,z3,a3 = listMeanAndStd([512,26,6000], time=t,start=1,end=3)\n",
    "    x4,y4,z4,a4 = listMeanAndStd([955,32,6000], time=t,start=1,end=3)\n",
    "    print(z,a, f\"<== 10 grains [1-3] | time={t}\")\n",
    "    print(z1,a1, f\"<== 98 grains [1-3] | time={t}\")\n",
    "    print(z2,a2, f\"<== 310 grains [1-3] | time={t}\")\n",
    "    print(z3,a3, f\"<== 512 grains [1-3] | time={t}\")\n",
    "    print(z4,a4, f\"<== 955 grains [1-3] | time={t}\")\n",
    "    print(\"=======================================================\")"
   ]
  },
  {
   "cell_type": "code",
   "execution_count": 15,
   "metadata": {},
   "outputs": [],
   "source": [
    "def plotMean(allData, time='0.0'):\n",
    "    x_data = [n[0] for n in allData]\n",
    "    y_data_std = []\n",
    "    y_data_mean = []\n",
    "    for data in allData:\n",
    "        base_file = getCASimulationFolder(data, suffix='1')\n",
    "        input_file = f'{base_file}/{time}/._rho.txt'\n",
    "        rho = getRho(input_file)\n",
    "        mean,std = findMeanAndStd(rho)\n",
    "        y_data_mean.append(mean)\n",
    "        y_data_std.append(std)\n",
    "    return x_data,[y_data_mean,y_data_std]"
   ]
  },
  {
   "cell_type": "code",
   "execution_count": 25,
   "metadata": {},
   "outputs": [],
   "source": [
    "def plotECDF(data):\n",
    "    # data = [98,15,6000]\n",
    "    # sample_name = f'Polycrystal_{data[0]}_{data[1]}x{data[1]}x{data[1]}'\n",
    "    # simulation_folder = f'/nethome/o.okewale/examples/sim_results/{sample_name}/{data[2]}_stand/CA_files'\n",
    "    # sel_seconds = ['0.0','2.5','5.0']\n",
    "    sel_seconds = ['0.0']\n",
    "    plt.figure()\n",
    "    for sec in sel_seconds:\n",
    "        base_file = getCASimulationFolder(data, suffix='1')\n",
    "        input_file = f'{base_file}/{sec}/._rho.txt'\n",
    "        x_values = getRho(input_file)\n",
    "    \n",
    "        sb.ecdfplot(x_values)\n",
    "        plt.xscale('log', base=math.e)\n",
    "        # return\n",
    "\n",
    "        # x,y = ecdf(x_values)\n",
    "        # #Plot the data\n",
    "        # # plt.figure()\n",
    "        # plt.plot(x, y) # , marker='.', linestyle='none'\n",
    "        # plt.xlabel('Dislocation density $\\\\rho$')\n",
    "        # plt.legend(sel_seconds)\n",
    "        # plt.ylabel('ECDF')\n",
    "        # plt.margins(0.1)"
   ]
  },
  {
   "cell_type": "code",
   "execution_count": 17,
   "metadata": {},
   "outputs": [],
   "source": [
    "def plotStandardDev(allData):\n",
    "    x,y = plotMean(allData, time='5.0')\n",
    "    x1,y1 = plotMean(allData, time='0.0')\n",
    "    # x2,y2 = plotMean(allData, time='2.5')\n",
    "    print(x)\n",
    "    print(y[1])\n",
    "\n",
    "    y_diff = [y1[1][i] - y[1][i] for i in range(0,len(y[1]))]\n",
    "    y_avg = [np.average([y1[1][i],y[1][i]]) for i in range(0,len(y[1]))]\n",
    "    y_coll = [[y1[1][i],y[1][i]] for i in range(0,len(y[1]))]\n",
    "    print(y_diff)\n",
    "    print(y_avg)\n",
    "    print(y_coll, \"<== Y Coll\")\n",
    "    str_x = [f'{a}' for a in x]\n",
    "    x_coll = [[f'{a}',f'{a}'] for a in x]\n",
    "    print(x_coll, \"<== X Coll\")\n",
    "\n",
    "    # linecoll = matcoll.LineCollection(y_coll,colors='k')\n",
    "    plt.figure()\n",
    "    plt.plot(str_x, y_avg, marker='.', linestyle='-') # , marker='.', linestyle='none'\n",
    "    plt.plot(str_x, y_coll, marker='.', linestyle='none')\n",
    "    plt.legend(['avg','5.0s','0.0s'], title='Annealing time')\n",
    "    plt.xlabel('grain no.')\n",
    "    # plt.ylabel('$(\\sigma_{5.0} + \\sigma_{0.0})/2$')\n",
    "    plt.ylabel('$\\sigma$')\n",
    "    plt.figure()\n",
    "    plt.plot(str_x, y_diff, marker='.', linestyle='-') # , marker='.', linestyle='none'\n",
    "    plt.xlabel('grain no.')\n",
    "    plt.ylabel('$\\sigma_{5.0} - \\sigma_{0.0}$')\n",
    "    plt.margins(0.1)"
   ]
  },
  {
   "cell_type": "code",
   "execution_count": 18,
   "metadata": {},
   "outputs": [],
   "source": [
    "def doKSTest(data1, data2, time='0.0'):\n",
    "    x_val1 = getRho(f'{getCASimulationFolder(data1)}/{time}/._rho.txt')\n",
    "    x_val2 = getRho(f'{getCASimulationFolder(data2)}/{time}/._rho.txt')\n",
    "    result = stats.ks_2samp(x_val1,x_val2)\n",
    "    return result"
   ]
  },
  {
   "cell_type": "code",
   "execution_count": 26,
   "metadata": {},
   "outputs": [
    {
     "data": {
      "image/png": "[encoded data removed]",
      "text/plain": [
       "<Figure size 432x288 with 1 Axes>"
      ]
     },
     "metadata": {
      "needs_background": "light"
     },
     "output_type": "display_data"
    }
   ],
   "source": [
    "all_simulations = [\n",
    "    [10,7,6000],\n",
    "    [98,15,6000],\n",
    "    [512,26,6000],\n",
    "    [955,32,6000],\n",
    "    [2160,42,6000],\n",
    "]\n",
    "\n",
    "# for dt in all_simulations:\n",
    "#     plotECDF(dt)\n",
    "\n",
    "plotECDF(all_simulations[2])\n",
    "# plotStandardDev(all_simulations)\n",
    "# print(doKSTest(all_simulations[4], all_simulations[3], time='0.0'))\n",
    "# print(doKSTest(all_simulations[4], all_simulations[3], time='2.5'))\n",
    "# print(doKSTest(all_simulations[4], all_simulations[3], time='0.0'))\n",
    "# print(doKSTest(all_simulations[4], all_simulations[2], time='0.0'))\n",
    "# print(doKSTest(all_simulations[4], all_simulations[1], time='0.0'))\n",
    "# print(doKSTest(all_simulations[4], all_simulations[0], time='0.0'))"
   ]
  },
  {
   "cell_type": "code",
   "execution_count": null,
   "metadata": {},
   "outputs": [],
   "source": [
    "def plotKSTest(allData, time_array):\n",
    "    # This function assumes the last value is the one being compared to.\n",
    "    output_folder = f'./plots/KSTest'\n",
    "    createDirectory(output_folder)\n",
    "    for time in time_array:\n",
    "        x_data = [f'{allData[i][0]}' for i in range(0,len(allData)-1)]\n",
    "        y_data = [doKSTest(allData[len(allData)-1], allData[s], time)[1] for s in range(0,len(allData)-1)]\n",
    "        # print(x_data)\n",
    "        # print(y_data)\n",
    "        plt.figure()\n",
    "        plt.plot(x_data, y_data, marker='.', linestyle='-') # , marker='.', linestyle='none'\n",
    "        # plt.legend(['avg','5.0s','0.0s'], title='Annealing time')\n",
    "        plt.xlabel('grain no.')\n",
    "        plt.ylabel('p-value')\n",
    "        plt.savefig(f'{output_folder}/{time}s_KSTest_on_dislocation_density.png', bbox_inches='tight')\n",
    "    \n",
    "times=[round(g,1) for g in np.arange(0.0,5.1,0.5)]\n",
    "plotKSTest(all_simulations,time_array=times)\n",
    "# print(times)"
   ]
  }
 ],
 "metadata": {
  "interpreter": {
   "hash": "31f2aee4e71d21fbe5cf8b01ff0e069b9275f58929596ceb00d14d90e3e16cd6"
  },
  "kernelspec": {
   "display_name": "Python 3.8.10 64-bit",
   "language": "python",
   "name": "python3"
  },
  "language_info": {
   "codemirror_mode": {
    "name": "ipython",
    "version": 3
   },
   "file_extension": ".py",
   "mimetype": "text/x-python",
   "name": "python",
   "nbconvert_exporter": "python",
   "pygments_lexer": "ipython3",
   "version": "3.8.10"
  },
  "orig_nbformat": 4
 },
 "nbformat": 4,
 "nbformat_minor": 2
}
