{
 "cells": [
  {
   "cell_type": "code",
   "execution_count": 2,
   "metadata": {},
   "outputs": [],
   "source": [
    "import sys\n",
    "sys.path.append('/nethome/storage/raid2/o.okewale/damask/python')\n",
    "# print(sys.path)\n",
    "\n",
    "import damask\n",
    "import numpy"
   ]
  },
  {
   "cell_type": "code",
   "execution_count": 13,
   "metadata": {},
   "outputs": [],
   "source": [
    "# path='/nethome/o.okewale/thesis_codebase/'\n",
    "input_file=\"Polycrystal_20_128x128x128.vtr\"\n",
    "cells = [256,256,256]\n",
    "output_file=f\"Polycrystal_20_{cells[0]}x{cells[1]}x{cells[2]}.vtr\""
   ]
  },
  {
   "cell_type": "code",
   "execution_count": 14,
   "metadata": {},
   "outputs": [
    {
     "name": "stdout",
     "output_type": "stream",
     "text": [
      "original grid:\n",
      "cells  a b c: 128 x 128 x 128\n",
      "size   x y z: 1e-05 x 1e-05 x 1e-05\n",
      "origin x y z: 0.0   0.0   0.0\n",
      "# materials: 20\n",
      "\n",
      "scaled grid:\n",
      "cells  a b c: 256 x 256 x 256\n",
      "size   x y z: 1e-05 x 1e-05 x 1e-05\n",
      "origin x y z: 0.0   0.0   0.0\n",
      "# materials: 20\n",
      "\n"
     ]
    }
   ],
   "source": [
    "grid = damask.Grid.load(input_file)\n",
    "scaled = grid.scale(cells)\n",
    "scaled.save(output_file)\n",
    "\n",
    "print(f'original grid:\\n{grid}\\n')\n",
    "print(f'scaled grid:\\n{scaled}\\n')"
   ]
  }
 ],
 "metadata": {
  "interpreter": {
   "hash": "31f2aee4e71d21fbe5cf8b01ff0e069b9275f58929596ceb00d14d90e3e16cd6"
  },
  "kernelspec": {
   "display_name": "Python 3.8.10 64-bit",
   "language": "python",
   "name": "python3"
  },
  "language_info": {
   "codemirror_mode": {
    "name": "ipython",
    "version": 3
   },
   "file_extension": ".py",
   "mimetype": "text/x-python",
   "name": "python",
   "nbconvert_exporter": "python",
   "pygments_lexer": "ipython3",
   "version": "3.8.10"
  },
  "orig_nbformat": 4
 },
 "nbformat": 4,
 "nbformat_minor": 2
}
